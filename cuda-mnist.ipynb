{
 "cells": [
  {
   "cell_type": "code",
   "execution_count": 1,
   "metadata": {},
   "outputs": [],
   "source": [
    "import tensorflow as tf"
   ]
  },
  {
   "cell_type": "code",
   "execution_count": 2,
   "metadata": {},
   "outputs": [],
   "source": [
    "sess = tf.Session(config=tf.ConfigProto(log_device_placement=True))"
   ]
  },
  {
   "cell_type": "code",
   "execution_count": 6,
   "metadata": {},
   "outputs": [
    {
     "name": "stdout",
     "output_type": "stream",
     "text": [
      "b'unknown' 1.13.1\n",
      "[[22. 28.]\n",
      " [49. 64.]]\n"
     ]
    }
   ],
   "source": [
    "print(tf.GIT_VERSION, tf.VERSION)\n",
    "a = tf.constant([1.0, 2.0, 3.0, 4.0, 5.0, 6.0], shape=[2, 3], name='a')\n",
    "b = tf.constant([1.0, 2.0, 3.0, 4.0, 5.0, 6.0], shape=[3, 2], name='b')\n",
    "c = tf.matmul(a, b)\n",
    "sess = tf.Session(config=tf.ConfigProto(log_device_placement=True))\n",
    "print(sess.run(c))"
   ]
  },
  {
   "cell_type": "code",
   "execution_count": 7,
   "metadata": {},
   "outputs": [
    {
     "data": {
      "text/plain": [
       "<tf.Operation 'PrintV2' type=PrintV2>"
      ]
     },
     "execution_count": 7,
     "metadata": {},
     "output_type": "execute_result"
    }
   ],
   "source": [
    "tf.print(sess)"
   ]
  },
  {
   "cell_type": "code",
   "execution_count": 8,
   "metadata": {},
   "outputs": [],
   "source": [
    "# Kearas MNIST"
   ]
  },
  {
   "cell_type": "code",
   "execution_count": 9,
   "metadata": {},
   "outputs": [
    {
     "name": "stderr",
     "output_type": "stream",
     "text": [
      "Using TensorFlow backend.\n"
     ]
    }
   ],
   "source": [
    "import keras\n",
    "from keras.datasets import mnist\n",
    "from keras.models import Sequential\n",
    "from keras.layers import Dense, Dropout\n",
    "from keras.layers import Flatten,  MaxPooling2D, Conv2D\n",
    "from keras.callbacks import TensorBoard"
   ]
  },
  {
   "cell_type": "code",
   "execution_count": 10,
   "metadata": {},
   "outputs": [
    {
     "name": "stdout",
     "output_type": "stream",
     "text": [
      "Downloading data from https://s3.amazonaws.com/img-datasets/mnist.npz\n",
      "11493376/11490434 [==============================] - 17s 1us/step\n"
     ]
    }
   ],
   "source": [
    "(X_train,y_train), (X_test, y_test) = mnist.load_data()\n",
    "\n",
    "X_train = X_train.reshape(60000,28,28,1).astype('float32')\n",
    "X_test = X_test.reshape(10000,28,28,1).astype('float32')\n",
    "\n",
    "X_train /= 255\n",
    "X_test /= 255\n",
    "\n",
    "n_classes = 10\n",
    "y_train = keras.utils.to_categorical(y_train, n_classes)\n",
    "y_test = keras.utils.to_categorical(y_test, n_classes)"
   ]
  },
  {
   "cell_type": "code",
   "execution_count": 11,
   "metadata": {},
   "outputs": [
    {
     "name": "stdout",
     "output_type": "stream",
     "text": [
      "WARNING:tensorflow:From /home/redtwo/anaconda3/envs/newspace/lib/python3.7/site-packages/tensorflow/python/framework/op_def_library.py:263: colocate_with (from tensorflow.python.framework.ops) is deprecated and will be removed in a future version.\n",
      "Instructions for updating:\n",
      "Colocations handled automatically by placer.\n",
      "WARNING:tensorflow:From /home/redtwo/anaconda3/envs/newspace/lib/python3.7/site-packages/keras/backend/tensorflow_backend.py:3445: calling dropout (from tensorflow.python.ops.nn_ops) with keep_prob is deprecated and will be removed in a future version.\n",
      "Instructions for updating:\n",
      "Please use `rate` instead of `keep_prob`. Rate should be set to `rate = 1 - keep_prob`.\n"
     ]
    }
   ],
   "source": [
    "model = Sequential()\n",
    "model.add(Conv2D(32, kernel_size=(3,3), activation='relu', input_shape=(28,28,1)) )\n",
    "model.add(Conv2D(64, kernel_size=(3,3), activation='relu'))\n",
    "model.add(MaxPooling2D(pool_size=(2,2)))\n",
    "model.add(Dropout(0.25))\n",
    "model.add(Flatten())          \n",
    "model.add(Dense(128, activation='relu'))\n",
    "model.add(Dropout(0.5))\n",
    "model.add(Dense(n_classes, activation='softmax'))"
   ]
  },
  {
   "cell_type": "code",
   "execution_count": 12,
   "metadata": {},
   "outputs": [],
   "source": [
    "model.compile(loss='categorical_crossentropy', optimizer='adam', metrics=['accuracy'])"
   ]
  },
  {
   "cell_type": "code",
   "execution_count": 13,
   "metadata": {},
   "outputs": [],
   "source": [
    "tensor_board = TensorBoard('./logs/LeNet-MNIST-1')"
   ]
  },
  {
   "cell_type": "code",
   "execution_count": 14,
   "metadata": {},
   "outputs": [
    {
     "name": "stdout",
     "output_type": "stream",
     "text": [
      "WARNING:tensorflow:From /home/redtwo/anaconda3/envs/newspace/lib/python3.7/site-packages/tensorflow/python/ops/math_ops.py:3066: to_int32 (from tensorflow.python.ops.math_ops) is deprecated and will be removed in a future version.\n",
      "Instructions for updating:\n",
      "Use tf.cast instead.\n",
      "Train on 60000 samples, validate on 10000 samples\n",
      "Epoch 1/15\n",
      "60000/60000 [==============================] - 8s 131us/step - loss: 0.2417 - acc: 0.9272 - val_loss: 0.0532 - val_acc: 0.9817\n",
      "Epoch 2/15\n",
      "60000/60000 [==============================] - 4s 70us/step - loss: 0.0853 - acc: 0.9744 - val_loss: 0.0375 - val_acc: 0.9874\n",
      "Epoch 3/15\n",
      "60000/60000 [==============================] - 4s 70us/step - loss: 0.0644 - acc: 0.9809 - val_loss: 0.0376 - val_acc: 0.9875\n",
      "Epoch 4/15\n",
      "60000/60000 [==============================] - 4s 71us/step - loss: 0.0533 - acc: 0.9837 - val_loss: 0.0280 - val_acc: 0.9901\n",
      "Epoch 5/15\n",
      "60000/60000 [==============================] - 4s 70us/step - loss: 0.0441 - acc: 0.9867 - val_loss: 0.0283 - val_acc: 0.9909\n",
      "Epoch 6/15\n",
      "60000/60000 [==============================] - 4s 71us/step - loss: 0.0392 - acc: 0.9873 - val_loss: 0.0272 - val_acc: 0.9923\n",
      "Epoch 7/15\n",
      "60000/60000 [==============================] - 4s 70us/step - loss: 0.0353 - acc: 0.9888 - val_loss: 0.0287 - val_acc: 0.9910\n",
      "Epoch 8/15\n",
      "60000/60000 [==============================] - 4s 71us/step - loss: 0.0307 - acc: 0.9904 - val_loss: 0.0268 - val_acc: 0.9918\n",
      "Epoch 9/15\n",
      "60000/60000 [==============================] - 4s 72us/step - loss: 0.0285 - acc: 0.9909 - val_loss: 0.0254 - val_acc: 0.9917\n",
      "Epoch 10/15\n",
      "60000/60000 [==============================] - 4s 71us/step - loss: 0.0273 - acc: 0.9912 - val_loss: 0.0285 - val_acc: 0.9917\n",
      "Epoch 11/15\n",
      "60000/60000 [==============================] - 4s 71us/step - loss: 0.0229 - acc: 0.9924 - val_loss: 0.0274 - val_acc: 0.9919\n",
      "Epoch 12/15\n",
      "60000/60000 [==============================] - 4s 71us/step - loss: 0.0221 - acc: 0.9929 - val_loss: 0.0274 - val_acc: 0.9929\n",
      "Epoch 13/15\n",
      "60000/60000 [==============================] - 4s 72us/step - loss: 0.0188 - acc: 0.9938 - val_loss: 0.0292 - val_acc: 0.9924\n",
      "Epoch 14/15\n",
      "60000/60000 [==============================] - 4s 72us/step - loss: 0.0198 - acc: 0.9935 - val_loss: 0.0288 - val_acc: 0.9924\n",
      "Epoch 15/15\n",
      "60000/60000 [==============================] - 4s 70us/step - loss: 0.0172 - acc: 0.9945 - val_loss: 0.0303 - val_acc: 0.9916\n"
     ]
    },
    {
     "data": {
      "text/plain": [
       "<keras.callbacks.History at 0x7ff3f8014518>"
      ]
     },
     "execution_count": 14,
     "metadata": {},
     "output_type": "execute_result"
    }
   ],
   "source": [
    "model.fit(X_train, y_train, batch_size=128, epochs=15, verbose=1,\n",
    "          validation_data=(X_test,y_test), callbacks=[tensor_board])"
   ]
  },
  {
   "cell_type": "code",
   "execution_count": null,
   "metadata": {},
   "outputs": [],
   "source": []
  }
 ],
 "metadata": {
  "kernelspec": {
   "display_name": "TensorFlow-GPU",
   "language": "python",
   "name": "newspace-notebook"
  },
  "language_info": {
   "codemirror_mode": {
    "name": "ipython",
    "version": 3
   },
   "file_extension": ".py",
   "mimetype": "text/x-python",
   "name": "python",
   "nbconvert_exporter": "python",
   "pygments_lexer": "ipython3",
   "version": "3.7.3"
  }
 },
 "nbformat": 4,
 "nbformat_minor": 2
}
